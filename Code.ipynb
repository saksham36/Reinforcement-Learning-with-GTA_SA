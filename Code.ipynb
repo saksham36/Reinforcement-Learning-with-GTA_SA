{
 "cells": [
  {
   "cell_type": "markdown",
   "metadata": {},
   "source": [
    "### RL Agent for self-driven car in GTA - SA"
   ]
  },
  {
   "cell_type": "code",
   "execution_count": 1,
   "metadata": {},
   "outputs": [],
   "source": [
    "# Import dependencies\n",
    "import numpy as np\n",
    "from PIL import ImageGrab\n",
    "import cv2\n",
    "import time\n",
    "from directkeys import PressKey, ReleaseKey, W,A,S,D\n",
    "import pyautogui"
   ]
  },
  {
   "cell_type": "code",
   "execution_count": 8,
   "metadata": {},
   "outputs": [],
   "source": [
    "def roi(img, vertices):\n",
    "    #blank mask:\n",
    "    mask = np.zeros_like(img)\n",
    "    # fill the mask\n",
    "    cv2.fillPoly(mask, vertices, 255)\n",
    "    # now only show the area that is the mask\n",
    "    masked = cv2.bitwise_and(img, mask)\n",
    "    return masked\n",
    "\n",
    "def process_img(image):\n",
    "    original_image = image\n",
    "    # convert to gray\n",
    "    processed_img = cv2.cvtColor(image, cv2.COLOR_BGR2GRAY)\n",
    "    # edge detection\n",
    "    processed_img =  cv2.Canny(processed_img, threshold1 = 100, threshold2=200)\n",
    "    vertices = np.array([[10,486],[10,327],[166,168],[479,168],[635,327],[635,486]], np.int32)\n",
    "    processed_img = roi(processed_img, [vertices])\n",
    "    return processed_img\n",
    "\n",
    "def main(): \n",
    "    last_time = time.time()\n",
    "    while(True):\n",
    "        # 800x600 windowed mode\n",
    "        screen =  np.array(ImageGrab.grab(bbox=(10,30,635,486)))\n",
    "#         print('loop took {} seconds'.format(time.time()-last_time))\n",
    "        last_time = time.time()\n",
    "        new_screen = process_img(screen)\n",
    "        cv2.imshow('window',new_screen)\n",
    "        if cv2.waitKey(5) & 0xFF == ord('q'):\n",
    "            cv2.destroyAllWindows()\n",
    "            break"
   ]
  },
  {
   "cell_type": "code",
   "execution_count": null,
   "metadata": {},
   "outputs": [],
   "source": [
    "main()"
   ]
  },
  {
   "cell_type": "code",
   "execution_count": null,
   "metadata": {},
   "outputs": [],
   "source": []
  },
  {
   "cell_type": "code",
   "execution_count": null,
   "metadata": {},
   "outputs": [],
   "source": []
  }
 ],
 "metadata": {
  "kernelspec": {
   "display_name": "Python 3",
   "language": "python",
   "name": "python3"
  },
  "language_info": {
   "codemirror_mode": {
    "name": "ipython",
    "version": 3
   },
   "file_extension": ".py",
   "mimetype": "text/x-python",
   "name": "python",
   "nbconvert_exporter": "python",
   "pygments_lexer": "ipython3",
   "version": "3.6.8"
  }
 },
 "nbformat": 4,
 "nbformat_minor": 2
}
